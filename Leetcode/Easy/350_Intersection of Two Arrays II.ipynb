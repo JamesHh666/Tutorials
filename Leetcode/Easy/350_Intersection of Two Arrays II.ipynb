{
 "cells": [
  {
   "cell_type": "code",
   "execution_count": 2,
   "metadata": {},
   "outputs": [],
   "source": [
    "class Solution(object):\n",
    "    def intersect(self, nums1, nums2):\n",
    "        \"\"\"\n",
    "        :type nums1: List[int]\n",
    "        :type nums2: List[int]\n",
    "        :rtype: List[int]\n",
    "        \"\"\"\n",
    "        itrsc = set(nums1) & set(nums2)\n",
    "        result = []\n",
    "        for i in itrsc:\n",
    "            num_itrsced = min(nums1.count(i), nums2.count(i))\n",
    "            for j in range(num_itrsced):\n",
    "                result.append(i)\n",
    "        return result"
   ]
  },
  {
   "cell_type": "markdown",
   "metadata": {},
   "source": [
    "Runtime: 60 ms, faster than 11.10% of Python online submissions for Intersection of Two Arrays II.<br>\n",
    "Memory Usage: 11.9 MB, less than 46.15% of Python online submissions for Intersection of Two Arrays II."
   ]
  },
  {
   "cell_type": "code",
   "execution_count": 3,
   "metadata": {},
   "outputs": [],
   "source": [
    "class Solution(object):\n",
    "    def intersect(self, nums1, nums2):\n",
    "        \"\"\"\n",
    "        :type nums1: List[int]\n",
    "        :type nums2: List[int]\n",
    "        :rtype: List[int]\n",
    "        \"\"\"\n",
    "        a, b = map(collections.Counter, (nums1, nums2))\n",
    "        return list((a & b).elements())"
   ]
  },
  {
   "cell_type": "markdown",
   "metadata": {},
   "source": [
    "Runtime: 36 ms, faster than 57.26% of Python online submissions for Intersection of Two Arrays II.<br>\n",
    "Memory Usage: 11.8 MB, less than 89.74% of Python online submissions for Intersection of Two Arrays II.<br>\n",
    "[collections.Counter](https://docs.python.org/3.7/library/collections.html#collections.Counter)"
   ]
  }
 ],
 "metadata": {
  "kernelspec": {
   "display_name": "Python 3",
   "language": "python",
   "name": "python3"
  },
  "language_info": {
   "codemirror_mode": {
    "name": "ipython",
    "version": 3
   },
   "file_extension": ".py",
   "mimetype": "text/x-python",
   "name": "python",
   "nbconvert_exporter": "python",
   "pygments_lexer": "ipython3",
   "version": "3.7.3"
  }
 },
 "nbformat": 4,
 "nbformat_minor": 2
}
