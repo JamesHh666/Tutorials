{
 "cells": [
  {
   "cell_type": "code",
   "execution_count": 1,
   "metadata": {},
   "outputs": [],
   "source": [
    "class Solution(object):\n",
    "    def intersection(self, nums1, nums2):\n",
    "        \"\"\"\n",
    "        :type nums1: List[int]\n",
    "        :type nums2: List[int]\n",
    "        :rtype: List[int]\n",
    "        \"\"\"\n",
    "        a = set(nums1)\n",
    "        b = set(nums2)\n",
    "        result = list(a & b)\n",
    "        return result"
   ]
  },
  {
   "cell_type": "markdown",
   "metadata": {},
   "source": [
    "Runtime: 32 ms, faster than 70.84% of Python online submissions for Intersection of Two Arrays.<br>\n",
    "Memory Usage: 11.7 MB, less than 100.00% of Python online submissions for Intersection of Two Arrays.\n",
    "\n",
    "# Summary \n",
    "<b>set</b> is very useful and fast for membership testing:\n",
    "<ul>\n",
    "    <li> <code>a ^ b</code> (a ∪ b) - (a ∩ b) </li>\n",
    "    <li> <code>a - b</code> a - (a ∩ b) </li>\n",
    "    <li> <code>a & b</code> <b>intersection</b> a ∩ b </li>\n",
    "    <li> <code>a | b</code> <b>union</b> a ∪ b</li>  \n",
    "</ul>"
   ]
  }
 ],
 "metadata": {
  "kernelspec": {
   "display_name": "Python 3",
   "language": "python",
   "name": "python3"
  },
  "language_info": {
   "codemirror_mode": {
    "name": "ipython",
    "version": 3
   },
   "file_extension": ".py",
   "mimetype": "text/x-python",
   "name": "python",
   "nbconvert_exporter": "python",
   "pygments_lexer": "ipython3",
   "version": "3.7.3"
  }
 },
 "nbformat": 4,
 "nbformat_minor": 2
}
