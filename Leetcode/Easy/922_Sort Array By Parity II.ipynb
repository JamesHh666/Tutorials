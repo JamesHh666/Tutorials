{
 "cells": [
  {
   "cell_type": "code",
   "execution_count": 1,
   "metadata": {},
   "outputs": [],
   "source": [
    "def sortArrayByParityII(A):\n",
    "    \"\"\"\n",
    "    :type A: List[int]\n",
    "    :rtype: List[int]\n",
    "    \"\"\"\n",
    "    for i in range(len(A)):\n",
    "        if (i % 2 == 0 and A[i] % 2 ==0) or (i % 2 == 1 and A[i] % 2 ==1):\n",
    "            continue\n",
    "        else:  # find the nearest odd/even\n",
    "            if i % 2 == 0:\n",
    "                for j in range(i+1, len(A)):\n",
    "                    if A[j] % 2 == 0:\n",
    "                        A[i], A[j] = A[j], A[i]\n",
    "                        break\n",
    "\n",
    "            elif i % 2 == 1:\n",
    "                for j in range(i+1, len(A)):\n",
    "                    if A[j] % 2 == 1:\n",
    "                        A[i], A[j] = A[j], A[i]\n",
    "                        break\n",
    "    return A"
   ]
  },
  {
   "cell_type": "markdown",
   "metadata": {},
   "source": [
    "# NOOOO!!!!!\n",
    "Cannot run on leetcode, too inefficient."
   ]
  },
  {
   "cell_type": "code",
   "execution_count": 2,
   "metadata": {},
   "outputs": [],
   "source": [
    "class Solution(object):\n",
    "    def sortArrayByParityII(self, A):\n",
    "        \"\"\"\n",
    "        :type A: List[int]\n",
    "        :rtype: List[int]\n",
    "        \"\"\"\n",
    "        N = len(A)\n",
    "        ans = [None] * N\n",
    "        ans[1::2] = [x for x in A if x % 2 == 1]\n",
    "        ans[::2] = [x for x in A if x % 2 == 0]\n",
    "        \n",
    "        return ans"
   ]
  },
  {
   "cell_type": "markdown",
   "metadata": {},
   "source": [
    "Runtime: 188 ms, faster than 82.83% of Python online submissions for Sort Array By Parity II.<br>\n",
    "Memory Usage: 13.9 MB, less than 42.10% of Python online submissions for Sort Array By Parity II."
   ]
  },
  {
   "cell_type": "markdown",
   "metadata": {},
   "source": [
    "# [List comprehension!!!](https://docs.python.org/3/tutorial/datastructures.html#list-comprehensions)\n"
   ]
  }
 ],
 "metadata": {
  "kernelspec": {
   "display_name": "Python 3",
   "language": "python",
   "name": "python3"
  },
  "language_info": {
   "codemirror_mode": {
    "name": "ipython",
    "version": 3
   },
   "file_extension": ".py",
   "mimetype": "text/x-python",
   "name": "python",
   "nbconvert_exporter": "python",
   "pygments_lexer": "ipython3",
   "version": "3.7.3"
  }
 },
 "nbformat": 4,
 "nbformat_minor": 2
}
