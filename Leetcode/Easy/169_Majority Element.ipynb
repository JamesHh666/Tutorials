{
 "cells": [
  {
   "cell_type": "markdown",
   "metadata": {},
   "source": [
    "# Brute Force\n",
    "<hr>\n",
    "Space Complexity: <b>O(1)</b>  (maybe <b>O(N)</b>? because I used <i>num_seen</i> to store unseen number)<br>\n",
    "Time Complexity: <b>O(N<sup>2</sup>)</b> Two nested <code>for</code> loop"
   ]
  },
  {
   "cell_type": "code",
   "execution_count": 17,
   "metadata": {},
   "outputs": [],
   "source": [
    "class Solution(object):\n",
    "    def majorityElement(self, nums):\n",
    "        \"\"\"\n",
    "        :type nums: List[int]\n",
    "        :rtype: int\n",
    "        \"\"\"\n",
    "        half = len(nums)//2\n",
    "        cnt = 0\n",
    "        num_seen = []\n",
    "        for i in nums:\n",
    "            if i not in num_seen:\n",
    "                num_seen.append(i)\n",
    "            else:\n",
    "                continue\n",
    "                \n",
    "            for j in nums:\n",
    "                if i == j:\n",
    "                    cnt += 1\n",
    "            if cnt > half:\n",
    "                return i"
   ]
  },
  {
   "cell_type": "markdown",
   "metadata": {},
   "source": [
    "Runtime: 160 ms, faster than 36.44% of Python online submissions for Majority Element. <br>\n",
    "Memory Usage: 13.4 MB, less than 46.34% of Python online submissions for Majority Element."
   ]
  },
  {
   "cell_type": "markdown",
   "metadata": {},
   "source": [
    "# Sorting\n",
    "<hr>\n",
    "Space Complexity: <code>O(nlogn)</code>  <br>\n",
    "Time Complexity: <code>O(N)</code> or <code>O(N)</code> "
   ]
  },
  {
   "cell_type": "code",
   "execution_count": 2,
   "metadata": {},
   "outputs": [],
   "source": [
    "class Solution(object):\n",
    "    def majorityElement(self, nums):\n",
    "        \"\"\"\n",
    "        :type nums: List[int]\n",
    "        :rtype: int\n",
    "        \"\"\"\n",
    "        nums.sort()\n",
    "        return nums[len(nums)//2]"
   ]
  },
  {
   "cell_type": "markdown",
   "metadata": {},
   "source": [
    "Runtime: 148 ms, faster than 76.62% of Python online submissions for Majority Element. <br>\n",
    "Memory Usage: 13.4 MB, less than 34.15% of Python online submissions for Majority Element."
   ]
  }
 ],
 "metadata": {
  "kernelspec": {
   "display_name": "Python 3",
   "language": "python",
   "name": "python3"
  },
  "language_info": {
   "codemirror_mode": {
    "name": "ipython",
    "version": 3
   },
   "file_extension": ".py",
   "mimetype": "text/x-python",
   "name": "python",
   "nbconvert_exporter": "python",
   "pygments_lexer": "ipython3",
   "version": "3.7.3"
  }
 },
 "nbformat": 4,
 "nbformat_minor": 2
}
