{
 "cells": [
  {
   "cell_type": "markdown",
   "metadata": {},
   "source": [
    "<p>Given an array of integers that is already sorted in ascending order, find two numbers such that they add up to a specific target number.\n",
    "<br>\n",
    "<p>The function $twoSum$ should return indices of the two numbers such that they add up to the target, where index1 must be less than index2.\n",
    "<br>\n",
    "<h2>Note: </h2>\n",
    "<br>\n",
    "<p>Your returned answers (both index1 and index2) are not zero-based.\n",
    "You may assume that each input would have exactly one solution and you may not use the same element twice.\n",
    "<h2>Example: </h2>\n",
    "<br>\n",
    "<p><b>Input:</b> numbers = [2,7,11,15], target = 9\n",
    "<p><b>Output:</b> [1,2]\n",
    "<p>Explanation: The sum of 2 and 7 is 9. Therefore index1 = 1, index2 = 2."
   ]
  },
  {
   "cell_type": "code",
   "execution_count": 1,
   "metadata": {},
   "outputs": [],
   "source": [
    "class Solution(object):\n",
    "    def twoSum(self, nums, target):\n",
    "        \"\"\"\n",
    "        :type nums: List[int]\n",
    "        :type target: int\n",
    "        :rtype: List[int]\n",
    "        \"\"\"\n",
    "        left = 0\n",
    "        right = len(nums)-1\n",
    "        while nums[left] + nums[right] != target:\n",
    "            if nums[left] + nums[right] > target:\n",
    "                right -= 1\n",
    "            else:\n",
    "                left += 1\n",
    "        return [left+1, right+1]"
   ]
  },
  {
   "cell_type": "markdown",
   "metadata": {},
   "source": [
    "# Summary\n",
    "<hr>\n",
    "Sometimes think of using <b>multiple pointers</b>"
   ]
  }
 ],
 "metadata": {
  "kernelspec": {
   "display_name": "Python 3",
   "language": "python",
   "name": "python3"
  },
  "language_info": {
   "codemirror_mode": {
    "name": "ipython",
    "version": 3
   },
   "file_extension": ".py",
   "mimetype": "text/x-python",
   "name": "python",
   "nbconvert_exporter": "python",
   "pygments_lexer": "ipython3",
   "version": "3.7.3"
  }
 },
 "nbformat": 4,
 "nbformat_minor": 2
}
