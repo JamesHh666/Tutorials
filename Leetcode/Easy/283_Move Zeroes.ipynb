{
 "cells": [
  {
   "cell_type": "markdown",
   "metadata": {},
   "source": [
    "<code>O(N)</code> Space Complexity, for creating <code>removed_0</code> <br>\n",
    "<code>O(N)</code> Time Complexity"
   ]
  },
  {
   "cell_type": "code",
   "execution_count": 1,
   "metadata": {},
   "outputs": [],
   "source": [
    "class Solution(object):\n",
    "    def moveZeroes(self, nums):\n",
    "        \"\"\"\n",
    "        :type nums: List[int]\n",
    "        :rtype: None Do not return anything, modify nums in-place instead.\n",
    "        \"\"\"\n",
    "        removed_0 = []\n",
    "        removed_0_idx = [] # To store the index of removed zeros\n",
    "        for i in range(len(nums)):\n",
    "            if nums[i] == 0:\n",
    "                removed_0_idx.append(i)\n",
    "        removed_0_idx.reverse()\n",
    "        for i in removed_0_idx:\n",
    "            removed_0.append(nums.pop(i))\n",
    "        nums.extend(removed_0)"
   ]
  },
  {
   "cell_type": "markdown",
   "metadata": {},
   "source": [
    "Runtime: 36 ms, faster than 69.41% of Python online submissions for Move Zeroes.<br>\n",
    "Memory Usage: 12.7 MB, less than 84.81% of Python online submissions for Move Zeroes."
   ]
  },
  {
   "cell_type": "markdown",
   "metadata": {},
   "source": [
    "<hr>\n",
    "<code>O(1)</code> Space Complexity <br>\n",
    "<code>O(N)</code> Time Complexity"
   ]
  },
  {
   "cell_type": "code",
   "execution_count": 2,
   "metadata": {},
   "outputs": [],
   "source": [
    "class Solution(object):\n",
    "    def moveZeroes(self, nums):\n",
    "        \"\"\"\n",
    "        :type nums: List[int]\n",
    "        :rtype: None Do not return anything, modify nums in-place instead.\n",
    "        \"\"\"\n",
    "        idx_notZero = 0\n",
    "        for i in range(len(nums)):\n",
    "            if nums[i] != 0:\n",
    "                nums[idx_notZero] = nums[i]\n",
    "                idx_notZero += 1\n",
    "        for i in range(idx_notZero, len(nums)):\n",
    "            nums[i] = 0"
   ]
  }
 ],
 "metadata": {
  "kernelspec": {
   "display_name": "Python 3",
   "language": "python",
   "name": "python3"
  },
  "language_info": {
   "codemirror_mode": {
    "name": "ipython",
    "version": 3
   },
   "file_extension": ".py",
   "mimetype": "text/x-python",
   "name": "python",
   "nbconvert_exporter": "python",
   "pygments_lexer": "ipython3",
   "version": "3.7.3"
  }
 },
 "nbformat": 4,
 "nbformat_minor": 2
}
