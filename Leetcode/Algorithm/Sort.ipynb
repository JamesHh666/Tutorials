{
 "cells": [
  {
   "cell_type": "markdown",
   "metadata": {},
   "source": [
    "# Bubble \n",
    "<hr>\n",
    "<p>Time complexity : <b>O(N<sup>2</sup>)</b></p>\n",
    "<p>Space complexity: <b>O(1)</b> </p>\n",
    "<ul>\n",
    "    <li><code>i: 0 → len(nums)-1</code> epoch</li>\n",
    "    <li><code>j: 0 → len(nums)-1-i</code> element to be swapped</li>\n",
    "</ul>"
   ]
  },
  {
   "cell_type": "code",
   "execution_count": 1,
   "metadata": {},
   "outputs": [],
   "source": [
    "def bubble(nums):\n",
    "    for i in range(len(nums) - 1):\n",
    "        for j in range(0, len(nums) - 1 - i):\n",
    "            if nums[j] > nums[j+1]:\n",
    "                nums[j], nums[j+1] = nums[j+1], nums[j]\n",
    "    return nums"
   ]
  },
  {
   "cell_type": "code",
   "execution_count": 2,
   "metadata": {},
   "outputs": [
    {
     "data": {
      "text/plain": [
       "[1, 2, 3, 3, 4, 5, 6, 6, 7, 9, 18, 23, 23, 24, 29, 45, 54, 58, 65, 90]"
      ]
     },
     "execution_count": 2,
     "metadata": {},
     "output_type": "execute_result"
    }
   ],
   "source": [
    "nums = [1, 3, 90, 23, 45, 23, 9, 18, 29, 24, 58, 2, 3, 54, 65, 4, 6, 7, 5, 6]\n",
    "bubble(nums)"
   ]
  },
  {
   "cell_type": "code",
   "execution_count": 3,
   "metadata": {},
   "outputs": [
    {
     "name": "stdout",
     "output_type": "stream",
     "text": [
      "[2, 3, 3, 4, 6, 6, 7, 9, 10, 18, 23, 23, 24, 29, 45, 54, 55, 58, 65, 90]\n"
     ]
    }
   ],
   "source": [
    "nums = [10, 3, 90, 23, 45, 23, 9, 18, 29, 24, 58, 2, 3, 54, 65, 4, 6, 7, 55, 6]\n",
    "print(bubble(nums))"
   ]
  },
  {
   "cell_type": "markdown",
   "metadata": {},
   "source": [
    "# Selection\n",
    "<hr>\n",
    "<p>Time complexity : <b>O(N<sup>2</sup>)</b></p>\n",
    "<p>Space complexity: <b>O(1)</b> </p>\n",
    "<ul>\n",
    "    <li><code>i: 0 → len(nums)-1</code> i<sup>th</sup> element to be swapped with the max/min</li>\n",
    "    <li><code>j: i → len(nums)</code> select the max/min element</li>\n",
    "</ul>"
   ]
  },
  {
   "cell_type": "code",
   "execution_count": 4,
   "metadata": {},
   "outputs": [],
   "source": [
    "def selection(nums):\n",
    "    for i in range(len(nums)-1):\n",
    "        idx_min = i\n",
    "        for j in range(i, len(nums)):\n",
    "            if nums[idx_min] > nums[j]:\n",
    "                idx_min = j\n",
    "        nums[i], nums[idx_min] = nums[idx_min], nums[i]\n",
    "    return nums"
   ]
  },
  {
   "cell_type": "code",
   "execution_count": 5,
   "metadata": {
    "scrolled": true
   },
   "outputs": [
    {
     "data": {
      "text/plain": [
       "[1, 2, 3, 3, 4, 5, 6, 6, 7, 9, 18, 23, 23, 24, 29, 45, 54, 58, 65, 90]"
      ]
     },
     "execution_count": 5,
     "metadata": {},
     "output_type": "execute_result"
    }
   ],
   "source": [
    "nums = [1, 3, 90, 23, 45, 23, 9, 18, 29, 24, 58, 2, 3, 54, 65, 4, 6, 7, 5, 6]\n",
    "selection(nums)"
   ]
  },
  {
   "cell_type": "code",
   "execution_count": 6,
   "metadata": {},
   "outputs": [
    {
     "data": {
      "text/plain": [
       "[2, 3, 3, 4, 6, 6, 7, 9, 10, 18, 23, 23, 24, 29, 45, 54, 55, 58, 65, 90]"
      ]
     },
     "execution_count": 6,
     "metadata": {},
     "output_type": "execute_result"
    }
   ],
   "source": [
    "nums = [10, 3, 90, 23, 45, 23, 9, 18, 29, 24, 58, 2, 3, 54, 65, 4, 6, 7, 55, 6]\n",
    "selection(nums)"
   ]
  },
  {
   "cell_type": "markdown",
   "metadata": {},
   "source": [
    "# Insertion\n",
    "<hr>\n",
    "<p>Time complexity : <b>O(N<sup>2</sup>)</b></p>\n",
    "<p>Space complexity: <b>O(1)</b> </p>\n",
    "<ul>\n",
    "    <li><code>i: 1 → len(nums)</code> <b>(i-1)</b> elements has been sorted, the <b>i<sup>th</sup> element</b> is to be inserted</li>\n",
    "    <li><code>j: i-1 → 0</code> find a suitable place to insert the <b>i<sup>th</sup> element</b> and move the ones lager/less than it towards +</li>\n",
    "</ul>"
   ]
  },
  {
   "cell_type": "code",
   "execution_count": 7,
   "metadata": {},
   "outputs": [],
   "source": [
    "def insertion(nums):\n",
    "    for i in range(1, len(nums)):\n",
    "        num_to_insert = nums[i]\n",
    "        for j in range(i-1, -1, -1):\n",
    "            if num_to_insert < nums[j]:\n",
    "                nums[j+1] = nums[j]  # Push larger nums to +\n",
    "                nums[j] = num_to_insert\n",
    "            else:\n",
    "                break\n",
    "    return nums"
   ]
  },
  {
   "cell_type": "code",
   "execution_count": 8,
   "metadata": {},
   "outputs": [
    {
     "data": {
      "text/plain": [
       "[1, 2, 3, 3, 4, 5, 6, 6, 7, 9, 18, 23, 23, 24, 29, 45, 54, 58, 65, 90]"
      ]
     },
     "execution_count": 8,
     "metadata": {},
     "output_type": "execute_result"
    }
   ],
   "source": [
    "nums = [1, 3, 90, 23, 45, 23, 9, 18, 29, 24, 58, 2, 3, 54, 65, 4, 6, 7, 5, 6]\n",
    "insertion(nums)"
   ]
  },
  {
   "cell_type": "code",
   "execution_count": 9,
   "metadata": {},
   "outputs": [
    {
     "data": {
      "text/plain": [
       "[2, 3, 3, 4, 6, 6, 7, 9, 10, 18, 23, 23, 24, 29, 45, 54, 55, 58, 65, 90]"
      ]
     },
     "execution_count": 9,
     "metadata": {},
     "output_type": "execute_result"
    }
   ],
   "source": [
    "nums = [10, 3, 90, 23, 45, 23, 9, 18, 29, 24, 58, 2, 3, 54, 65, 4, 6, 7, 55, 6]\n",
    "insertion(nums)"
   ]
  },
  {
   "cell_type": "markdown",
   "metadata": {},
   "source": [
    "# Quicksort \n",
    "<hr>\n",
    "<p>Time complexity : <b>O(NlogN)</b></p>\n",
    "<ul>\n",
    "    <li>Pick a <code>pivot</code> (I pick the ary[0])</li>\n",
    "    <li>Partioning: elements <b>less than</b> the <code>pivot</code> go to the <b>left</b> side, and ones <b>greater than</b> <code>pivot</code> go to the <b>right</b> </li>\n",
    "</ul>\n",
    "\n",
    "Thanks to [the answer in stackoverflow](https://stackoverflow.com/a/18262384/10551119)"
   ]
  },
  {
   "cell_type": "code",
   "execution_count": 10,
   "metadata": {},
   "outputs": [],
   "source": [
    "def quicksort(nums):\n",
    "    less = []\n",
    "    equal = []\n",
    "    geater = []\n",
    "    if len(nums) > 1:\n",
    "        pivot = nums[0]\n",
    "        for num in nums:\n",
    "            if num > pivot:\n",
    "                geater.append(num)\n",
    "            elif num == pivot:\n",
    "                equal.append(num)\n",
    "            elif num < pivot:\n",
    "                less.append(num)\n",
    "        return quicksort(less) + equal + quicksort(geater)\n",
    "    else:\n",
    "        return nums"
   ]
  },
  {
   "cell_type": "code",
   "execution_count": 11,
   "metadata": {},
   "outputs": [
    {
     "data": {
      "text/plain": [
       "[1, 2, 3, 3, 4, 5, 6, 6, 7, 9, 18, 23, 23, 24, 29, 45, 54, 58, 65, 90]"
      ]
     },
     "execution_count": 11,
     "metadata": {},
     "output_type": "execute_result"
    }
   ],
   "source": [
    "nums = [1, 3, 90, 23, 45, 23, 9, 18, 29, 24, 58, 2, 3, 54, 65, 4, 6, 7, 5, 6]\n",
    "quicksort(nums)"
   ]
  },
  {
   "cell_type": "code",
   "execution_count": 12,
   "metadata": {},
   "outputs": [
    {
     "data": {
      "text/plain": [
       "[2, 3, 3, 4, 6, 6, 7, 9, 10, 18, 23, 23, 24, 29, 45, 54, 55, 58, 65, 90]"
      ]
     },
     "execution_count": 12,
     "metadata": {},
     "output_type": "execute_result"
    }
   ],
   "source": [
    "nums = [10, 3, 90, 23, 45, 23, 9, 18, 29, 24, 58, 2, 3, 54, 65, 4, 6, 7, 55, 6]\n",
    "quicksort(nums)"
   ]
  },
  {
   "cell_type": "code",
   "execution_count": null,
   "metadata": {},
   "outputs": [],
   "source": []
  }
 ],
 "metadata": {
  "kernelspec": {
   "display_name": "Python 3",
   "language": "python",
   "name": "python3"
  },
  "language_info": {
   "codemirror_mode": {
    "name": "ipython",
    "version": 3
   },
   "file_extension": ".py",
   "mimetype": "text/x-python",
   "name": "python",
   "nbconvert_exporter": "python",
   "pygments_lexer": "ipython3",
   "version": "3.7.3"
  }
 },
 "nbformat": 4,
 "nbformat_minor": 2
}
