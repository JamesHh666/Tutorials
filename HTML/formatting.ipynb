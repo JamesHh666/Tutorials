{
 "cells": [
  {
   "cell_type": "markdown",
   "metadata": {},
   "source": [
    "<h1> Summary: </h1>\n",
    "<ul>\n",
    "  <li>&lt;b&gt;: <b>Bold text</b></li>\n",
    "  <li>&lt;i&gt;: <i>Italic text</i></li>\n",
    "  <li>&lt;mark&gt;: <mark>marked/highlighted tex</mark></li>\n",
    "  <li>&lt;del&gt;: <del>strike out</del></li>\n",
    "  <li>&lt;ins&gt;: <ins>underscore</ins></li>\n",
    "  <li>&lt;sub&gt;: A<sub>1</sub></li>\n",
    "  <li>&lt;sup&gt;: A<sup>2</sup></li>\n",
    "</ul>"
   ]
  },
  {
   "cell_type": "code",
   "execution_count": null,
   "metadata": {},
   "outputs": [],
   "source": [
    "$m$"
   ]
  },
  {
   "cell_type": "markdown",
   "metadata": {},
   "source": [
    "$m$"
   ]
  }
 ],
 "metadata": {
  "kernelspec": {
   "display_name": "Python 3",
   "language": "python",
   "name": "python3"
  },
  "language_info": {
   "codemirror_mode": {
    "name": "ipython",
    "version": 3
   },
   "file_extension": ".py",
   "mimetype": "text/x-python",
   "name": "python",
   "nbconvert_exporter": "python",
   "pygments_lexer": "ipython3",
   "version": "3.7.3"
  }
 },
 "nbformat": 4,
 "nbformat_minor": 2
}
